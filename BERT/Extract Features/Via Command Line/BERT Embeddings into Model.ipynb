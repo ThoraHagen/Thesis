{
 "cells": [
  {
   "cell_type": "markdown",
   "metadata": {},
   "source": [
    "**For testing reasons, only the dev set was used in this case. Results are the same when using more data.**"
   ]
  },
  {
   "cell_type": "code",
   "execution_count": 1,
   "metadata": {},
   "outputs": [
    {
     "name": "stderr",
     "output_type": "stream",
     "text": [
      "Using TensorFlow backend.\n"
     ]
    }
   ],
   "source": [
    "import json_lines\n",
    "import pandas as pd\n",
    "import numpy as np\n",
    "from keras.utils.np_utils import to_categorical\n",
    "from keras.models import Sequential\n",
    "from keras.layers import Embedding, Flatten, Dense, Dropout, LSTM, BatchNormalization"
   ]
  },
  {
   "cell_type": "code",
   "execution_count": 2,
   "metadata": {},
   "outputs": [],
   "source": [
    "def get_labels(path):\n",
    "    df = pd.read_csv(path, sep='\\t', index_col=0)\n",
    "    labels = list(df['label'])\n",
    "    labels = np.asarray(labels)\n",
    "    labels = to_categorical(labels)\n",
    "    return labels"
   ]
  },
  {
   "cell_type": "code",
   "execution_count": 3,
   "metadata": {},
   "outputs": [],
   "source": [
    "path_train_embedding='Embeddings/embeddings_test.jsonl'\n",
    "path_dev_embedding='Embeddings/embeddings_dev.jsonl'\n",
    "path_train_tsv='../../Data_preprocessed/test.tsv'\n",
    "path_dev_tsv='../../Data_preprocessed/dev.tsv'"
   ]
  },
  {
   "cell_type": "code",
   "execution_count": 4,
   "metadata": {},
   "outputs": [],
   "source": [
    "#train_labels = get_labels(path_train_tsv)\n",
    "dev_labels = get_labels(path_dev_tsv)"
   ]
  },
  {
   "cell_type": "code",
   "execution_count": 5,
   "metadata": {},
   "outputs": [],
   "source": [
    "y_data = dev_labels[:500]"
   ]
  },
  {
   "cell_type": "code",
   "execution_count": 6,
   "metadata": {},
   "outputs": [
    {
     "data": {
      "text/plain": [
       "array([[1., 0., 0.],\n",
       "       [0., 0., 1.],\n",
       "       [1., 0., 0.],\n",
       "       [1., 0., 0.],\n",
       "       [0., 0., 1.],\n",
       "       [1., 0., 0.],\n",
       "       [0., 0., 1.],\n",
       "       [0., 1., 0.],\n",
       "       [0., 1., 0.],\n",
       "       [1., 0., 0.]], dtype=float32)"
      ]
     },
     "execution_count": 6,
     "metadata": {},
     "output_type": "execute_result"
    }
   ],
   "source": [
    "y_data[490:]"
   ]
  },
  {
   "cell_type": "code",
   "execution_count": 7,
   "metadata": {},
   "outputs": [
    {
     "data": {
      "text/plain": [
       "dtype('float64')"
      ]
     },
     "execution_count": 7,
     "metadata": {},
     "output_type": "execute_result"
    }
   ],
   "source": [
    "y_data = y_data.astype('float64')\n",
    "y_data.dtype"
   ]
  },
  {
   "cell_type": "code",
   "execution_count": 8,
   "metadata": {},
   "outputs": [],
   "source": [
    "x_data =[]\n",
    "with open(path_dev_embedding, 'rb') as f:\n",
    "    for i, line in enumerate(json_lines.reader(f)):\n",
    "        features_per_doc = np.zeros(shape=(100,768))\n",
    "        if i<500:\n",
    "            tokenlist =[]\n",
    "            featurelist = line['features']\n",
    "            counter = 0\n",
    "\n",
    "            for e, feature in enumerate(featurelist):\n",
    "                    token = feature['token']\n",
    "                    f = feature['layers'][0]['values']\n",
    "                    f = np.asarray(f)\n",
    "                    features_per_doc[e] = f\n",
    "                    \n",
    "                    counter+=1\n",
    "      \n",
    "                    tokenlist.append(token)\n",
    "                \n",
    "            x_data.append(features_per_doc)\n",
    "         \n",
    "        \n",
    "x_data= np.asarray(x_data)"
   ]
  },
  {
   "cell_type": "code",
   "execution_count": 10,
   "metadata": {},
   "outputs": [
    {
     "data": {
      "text/plain": [
       "dtype('float64')"
      ]
     },
     "execution_count": 10,
     "metadata": {},
     "output_type": "execute_result"
    }
   ],
   "source": [
    "x_data.dtype"
   ]
  },
  {
   "cell_type": "code",
   "execution_count": 11,
   "metadata": {},
   "outputs": [
    {
     "name": "stdout",
     "output_type": "stream",
     "text": [
      "_________________________________________________________________\n",
      "Layer (type)                 Output Shape              Param #   \n",
      "=================================================================\n",
      "lstm_1 (LSTM)                (None, 5)                 15480     \n",
      "_________________________________________________________________\n",
      "dropout_1 (Dropout)          (None, 5)                 0         \n",
      "_________________________________________________________________\n",
      "dense_1 (Dense)              (None, 3)                 18        \n",
      "=================================================================\n",
      "Total params: 15,498\n",
      "Trainable params: 15,498\n",
      "Non-trainable params: 0\n",
      "_________________________________________________________________\n"
     ]
    }
   ],
   "source": [
    "model = Sequential()\n",
    "\n",
    "model.add(LSTM(5, input_shape=(100, 768)))\n",
    "\n",
    "model.add(Dropout(0.1))\n",
    "\n",
    "model.add(Dense(3, activation='softmax'))\n",
    "\n",
    "model.summary()"
   ]
  },
  {
   "cell_type": "code",
   "execution_count": 15,
   "metadata": {},
   "outputs": [
    {
     "name": "stdout",
     "output_type": "stream",
     "text": [
      "Train on 500 samples, validate on 500 samples\n",
      "Epoch 1/5\n",
      "500/500 [==============================] - 3s 5ms/step - loss: 1.0990 - acc: 0.3400 - val_loss: 1.0980 - val_acc: 0.3600\n",
      "Epoch 2/5\n",
      "500/500 [==============================] - 2s 4ms/step - loss: 1.0981 - acc: 0.3600 - val_loss: 1.0977 - val_acc: 0.3600\n",
      "Epoch 3/5\n",
      "500/500 [==============================] - 2s 4ms/step - loss: 1.0981 - acc: 0.3620 - val_loss: 1.0974 - val_acc: 0.3600\n",
      "Epoch 4/5\n",
      "500/500 [==============================] - 2s 4ms/step - loss: 1.0979 - acc: 0.3600 - val_loss: 1.0973 - val_acc: 0.3600\n",
      "Epoch 5/5\n",
      "500/500 [==============================] - 2s 4ms/step - loss: 1.0973 - acc: 0.3600 - val_loss: 1.0972 - val_acc: 0.3600\n"
     ]
    }
   ],
   "source": [
    "model.compile(optimizer='rmsprop',\n",
    "              loss='categorical_crossentropy',\n",
    "              metrics=['accuracy'])\n",
    "history=model.fit(x_data, y_data,\n",
    "                            epochs=5,              \n",
    "                            validation_data=(x_data, y_data))"
   ]
  },
  {
   "cell_type": "markdown",
   "metadata": {},
   "source": [
    "Even when using the same validation data (which should result in a very good val_acc), the accuracy staggers around 0.3."
   ]
  },
  {
   "cell_type": "code",
   "execution_count": 22,
   "metadata": {},
   "outputs": [],
   "source": [
    "def get_test_predictions(model, x_test):\n",
    "    \"\"\"\n",
    "    Gets predictions given test data (array) and a model. Returns array of predictions.\n",
    "    \"\"\"\n",
    "    predictions = model.predict(x_test)\n",
    "    y_pred = []\n",
    "    for pred in predictions:\n",
    "        pred = list(pred)\n",
    "        #print(pred)\n",
    "        y_pred.append(pred.index(max(pred)))\n",
    "    return y_pred"
   ]
  },
  {
   "cell_type": "code",
   "execution_count": 24,
   "metadata": {},
   "outputs": [],
   "source": [
    "y_pred = get_test_predictions(model, x_data)"
   ]
  },
  {
   "cell_type": "code",
   "execution_count": 25,
   "metadata": {},
   "outputs": [],
   "source": [
    "predictions = model.predict(x_data)"
   ]
  },
  {
   "cell_type": "code",
   "execution_count": 26,
   "metadata": {},
   "outputs": [
    {
     "data": {
      "text/plain": [
       "array([[0.3512395 , 0.32066196, 0.3280986 ],\n",
       "       [0.35124502, 0.32065758, 0.32809734],\n",
       "       [0.35124716, 0.32065588, 0.32809705],\n",
       "       ...,\n",
       "       [0.3512459 , 0.3206569 , 0.3280972 ],\n",
       "       [0.35124028, 0.3206614 , 0.32809842],\n",
       "       [0.35124144, 0.32066047, 0.32809815]], dtype=float32)"
      ]
     },
     "execution_count": 26,
     "metadata": {},
     "output_type": "execute_result"
    }
   ],
   "source": [
    "predictions"
   ]
  },
  {
   "cell_type": "code",
   "execution_count": 27,
   "metadata": {},
   "outputs": [],
   "source": [
    "import matplotlib.pyplot as plt\n",
    "%matplotlib inline"
   ]
  },
  {
   "cell_type": "code",
   "execution_count": 28,
   "metadata": {},
   "outputs": [],
   "source": [
    "def plot_confusion_matrix(cm, classes,\n",
    "                          normalize=False,\n",
    "                          title='Confusion matrix',\n",
    "                          cmap=plt.cm.Blues):\n",
    "    \"\"\"\n",
    "    This function prints and plots the confusion matrix.\n",
    "    Normalization can be applied by setting `normalize=True`.\n",
    "    \"\"\"\n",
    "    if normalize:\n",
    "        cm = cm.astype('float') / cm.sum(axis=1)[:, np.newaxis]\n",
    "        print(\"Normalized confusion matrix\")\n",
    "    else:\n",
    "        print('Confusion matrix, without normalization')\n",
    "\n",
    "    print(cm)\n",
    "\n",
    "    plt.imshow(cm, interpolation='nearest', cmap=cmap)\n",
    "    plt.title(title)\n",
    "    plt.colorbar()\n",
    "    tick_marks = np.arange(len(classes))\n",
    "    plt.xticks(tick_marks, classes, rotation=45)\n",
    "    plt.yticks(tick_marks, classes)\n",
    "\n",
    "    fmt = '.2f' if normalize else 'd'\n",
    "    thresh = cm.max() / 2.\n",
    "    for i, j in itertools.product(range(cm.shape[0]), range(cm.shape[1])):\n",
    "        plt.text(j, i, format(cm[i, j], fmt),\n",
    "                 horizontalalignment=\"center\",\n",
    "                 color=\"white\" if cm[i, j] > thresh else \"black\")\n",
    "\n",
    "    plt.ylabel('True label')\n",
    "    plt.xlabel('Predicted label')\n",
    "    plt.tight_layout()"
   ]
  },
  {
   "cell_type": "code",
   "execution_count": 29,
   "metadata": {},
   "outputs": [],
   "source": [
    "y = []\n",
    "for pred in y_data:\n",
    "    pred = list(pred)\n",
    "    y.append(pred.index(max(pred)))"
   ]
  },
  {
   "cell_type": "code",
   "execution_count": 30,
   "metadata": {},
   "outputs": [
    {
     "name": "stdout",
     "output_type": "stream",
     "text": [
      "Normalized confusion matrix\n",
      "[[1. 0. 0.]\n",
      " [1. 0. 0.]\n",
      " [1. 0. 0.]]\n"
     ]
    },
    {
     "data": {
      "image/png": "[encoded data removed]",
      "text/plain": [
       "<Figure size 432x288 with 2 Axes>"
      ]
     },
     "metadata": {},
     "output_type": "display_data"
    }
   ],
   "source": [
    "import itertools\n",
    "from sklearn.metrics import confusion_matrix\n",
    "cnf_matrix = confusion_matrix(y, y_pred)\n",
    "np.set_printoptions(precision=2)\n",
    "plot_confusion_matrix(cnf_matrix, classes=['hateful', 'offensive', 'clean'], normalize=True,\n",
    "                      title='Normalized confusion matrix')"
   ]
  }
 ],
 "metadata": {
  "kernelspec": {
   "display_name": "Python 3",
   "language": "python",
   "name": "python3"
  },
  "language_info": {
   "codemirror_mode": {
    "name": "ipython",
    "version": 3
   },
   "file_extension": ".py",
   "mimetype": "text/x-python",
   "name": "python",
   "nbconvert_exporter": "python",
   "pygments_lexer": "ipython3",
   "version": "3.6.5"
  }
 },
 "nbformat": 4,
 "nbformat_minor": 2
}
