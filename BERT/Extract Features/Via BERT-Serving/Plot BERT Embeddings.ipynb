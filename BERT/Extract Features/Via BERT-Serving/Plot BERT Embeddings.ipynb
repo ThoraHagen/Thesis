{
 "cells": [
  {
   "cell_type": "code",
   "execution_count": 13,
   "metadata": {},
   "outputs": [],
   "source": [
    "from bert_serving.client import BertClient\n",
    "bc = BertClient()"
   ]
  },
  {
   "cell_type": "code",
   "execution_count": 19,
   "metadata": {},
   "outputs": [],
   "source": [
    "words ='april march december january june love fantastic great like wonderful hate dumb idiot loser disgusting tree flower grass sky river green yellow black blue white three nine eight twelve twenty'"
   ]
  },
  {
   "cell_type": "code",
   "execution_count": 137,
   "metadata": {},
   "outputs": [],
   "source": [
    "words2 = ['i did this in june', 'i did this in april', 'i did this in march', 'i made that in january',\n",
    "          'i like the color green', 'i like the color yellow', 'i like the color black', 'i hate the color blue',\n",
    "          'you are a big loser', 'you are a big idiot', 'you are very very disgusting', 'can you be more dumb',\n",
    "          'you are very very wonderful', 'you are very very fantastic', 'you i really really like', 'this is very very great',\n",
    "          'i did this with twelve', 'i made this with eight', ' i am now almost twenty', 'i have like maybe three']"
   ]
  },
  {
   "cell_type": "code",
   "execution_count": 131,
   "metadata": {},
   "outputs": [],
   "source": [
    "targets2 = ['june', 'april', 'march', 'january', 'green', 'yellow', 'black', 'blue',\n",
    "            'loser', 'idiot', 'disgusting', 'dumb', 'wonderful', 'fantastic', 'great', 'like', 'twelve', 'eight', 'twenty', 'three']"
   ]
  },
  {
   "cell_type": "code",
   "execution_count": 138,
   "metadata": {},
   "outputs": [],
   "source": [
    "t2 = [s.split() for s in words2]"
   ]
  },
  {
   "cell_type": "code",
   "execution_count": 20,
   "metadata": {},
   "outputs": [],
   "source": [
    "t = words.split()"
   ]
  },
  {
   "cell_type": "code",
   "execution_count": 21,
   "metadata": {},
   "outputs": [],
   "source": [
    "from random import shuffle\n",
    "shuffle(t)"
   ]
  },
  {
   "cell_type": "code",
   "execution_count": 22,
   "metadata": {},
   "outputs": [],
   "source": [
    "t = [t]"
   ]
  },
  {
   "cell_type": "code",
   "execution_count": 40,
   "metadata": {},
   "outputs": [
    {
     "data": {
      "text/plain": [
       "['like',\n",
       " 'disgusting',\n",
       " 'green',\n",
       " 'three',\n",
       " 'dumb',\n",
       " 'grass',\n",
       " 'blue',\n",
       " 'great',\n",
       " 'june',\n",
       " 'march',\n",
       " 'white',\n",
       " 'fantastic',\n",
       " 'idiot',\n",
       " 'flower',\n",
       " 'twenty',\n",
       " 'nine',\n",
       " 'december',\n",
       " 'tree',\n",
       " 'love',\n",
       " 'april',\n",
       " 'hate',\n",
       " 'eight',\n",
       " 'sky',\n",
       " 'black',\n",
       " 'wonderful',\n",
       " 'yellow',\n",
       " 'river',\n",
       " 'loser',\n",
       " 'january',\n",
       " 'twelve']"
      ]
     },
     "execution_count": 40,
     "metadata": {},
     "output_type": "execute_result"
    }
   ],
   "source": [
    "t[0]"
   ]
  },
  {
   "cell_type": "markdown",
   "metadata": {},
   "source": [
    "**Encode words with (vecs2) and without (vecs) context.**"
   ]
  },
  {
   "cell_type": "code",
   "execution_count": 83,
   "metadata": {},
   "outputs": [],
   "source": [
    "vecs = bc.encode(t, show_tokens=True, is_tokenized=True)"
   ]
  },
  {
   "cell_type": "code",
   "execution_count": 139,
   "metadata": {},
   "outputs": [],
   "source": [
    "vecs2 = bc.encode(t2, show_tokens=True, is_tokenized=True)"
   ]
  },
  {
   "cell_type": "code",
   "execution_count": 140,
   "metadata": {},
   "outputs": [],
   "source": [
    "l = list(vecs2[0])"
   ]
  },
  {
   "cell_type": "code",
   "execution_count": 141,
   "metadata": {},
   "outputs": [
    {
     "data": {
      "text/plain": [
       "[['[CLS]', 'i', 'did', 'this', 'in', 'june', '[SEP]'],\n",
       " ['[CLS]', 'i', 'did', 'this', 'in', 'april', '[SEP]'],\n",
       " ['[CLS]', 'i', 'did', 'this', 'in', 'march', '[SEP]'],\n",
       " ['[CLS]', 'i', 'made', 'that', 'in', 'january', '[SEP]'],\n",
       " ['[CLS]', 'i', 'like', 'the', 'color', 'green', '[SEP]'],\n",
       " ['[CLS]', 'i', 'like', 'the', 'color', 'yellow', '[SEP]'],\n",
       " ['[CLS]', 'i', 'like', 'the', 'color', 'black', '[SEP]'],\n",
       " ['[CLS]', 'i', 'hate', 'the', 'color', 'blue', '[SEP]'],\n",
       " ['[CLS]', 'you', 'are', 'a', 'big', 'loser', '[SEP]'],\n",
       " ['[CLS]', 'you', 'are', 'a', 'big', 'idiot', '[SEP]'],\n",
       " ['[CLS]', 'you', 'are', 'very', 'very', 'disgusting', '[SEP]'],\n",
       " ['[CLS]', 'can', 'you', 'be', 'more', 'dumb', '[SEP]'],\n",
       " ['[CLS]', 'you', 'are', 'very', 'very', 'wonderful', '[SEP]'],\n",
       " ['[CLS]', 'you', 'are', 'very', 'very', 'fantastic', '[SEP]'],\n",
       " ['[CLS]', 'you', 'i', 'really', 'really', 'like', '[SEP]'],\n",
       " ['[CLS]', 'this', 'is', 'very', 'very', 'great', '[SEP]'],\n",
       " ['[CLS]', 'i', 'did', 'this', 'with', 'twelve', '[SEP]'],\n",
       " ['[CLS]', 'i', 'made', 'this', 'with', 'eight', '[SEP]'],\n",
       " ['[CLS]', 'i', 'am', 'now', 'almost', 'twenty', '[SEP]'],\n",
       " ['[CLS]', 'i', 'have', 'like', 'maybe', 'three', '[SEP]']]"
      ]
     },
     "execution_count": 141,
     "metadata": {},
     "output_type": "execute_result"
    }
   ],
   "source": [
    "vecs2[1]"
   ]
  },
  {
   "cell_type": "code",
   "execution_count": 142,
   "metadata": {},
   "outputs": [],
   "source": [
    "vec_list2 = []\n",
    "for i,vec in enumerate(l):\n",
    "    #print(i)\n",
    "    vec_list2.append(list(vec[5]))"
   ]
  },
  {
   "cell_type": "code",
   "execution_count": 143,
   "metadata": {},
   "outputs": [
    {
     "data": {
      "text/plain": [
       "20"
      ]
     },
     "execution_count": 143,
     "metadata": {},
     "output_type": "execute_result"
    }
   ],
   "source": [
    "len(vec_list2)"
   ]
  },
  {
   "cell_type": "code",
   "execution_count": 113,
   "metadata": {},
   "outputs": [
    {
     "data": {
      "text/plain": [
       "['[CLS]',\n",
       " 'like',\n",
       " 'disgusting',\n",
       " 'green',\n",
       " 'three',\n",
       " 'dumb',\n",
       " 'grass',\n",
       " 'blue',\n",
       " 'great',\n",
       " 'june',\n",
       " 'march',\n",
       " 'white',\n",
       " 'fantastic',\n",
       " 'idiot',\n",
       " 'flower',\n",
       " 'twenty',\n",
       " 'nine',\n",
       " 'december',\n",
       " 'tree',\n",
       " 'love',\n",
       " 'april',\n",
       " 'hate',\n",
       " 'eight',\n",
       " 'sky',\n",
       " 'black',\n",
       " 'wonderful',\n",
       " 'yellow',\n",
       " 'river',\n",
       " 'loser',\n",
       " 'january',\n",
       " 'twelve',\n",
       " '[SEP]']"
      ]
     },
     "execution_count": 113,
     "metadata": {},
     "output_type": "execute_result"
    }
   ],
   "source": [
    "vecs[1][0]"
   ]
  },
  {
   "cell_type": "code",
   "execution_count": 101,
   "metadata": {},
   "outputs": [],
   "source": [
    "v = list(vecs[0])"
   ]
  },
  {
   "cell_type": "code",
   "execution_count": 102,
   "metadata": {},
   "outputs": [
    {
     "data": {
      "text/plain": [
       "[array([[-0.18356124, -0.17384502,  0.4501494 , ..., -0.33554   ,\n",
       "         -0.07352923,  0.14558466],\n",
       "        [ 0.67606825,  1.1903994 ,  1.1681944 , ..., -0.4950658 ,\n",
       "          0.24713813,  0.3724842 ],\n",
       "        [ 1.2378294 ,  1.1281395 ,  0.43425074, ...,  0.9168096 ,\n",
       "         -0.40286866, -0.5026688 ],\n",
       "        ...,\n",
       "        [-0.        ,  0.        ,  0.        , ..., -0.        ,\n",
       "         -0.        ,  0.        ],\n",
       "        [-0.        ,  0.        ,  0.        , ..., -0.        ,\n",
       "         -0.        ,  0.        ],\n",
       "        [-0.        , -0.        , -0.        , ..., -0.        ,\n",
       "          0.        , -0.        ]], dtype=float32)]"
      ]
     },
     "execution_count": 102,
     "metadata": {},
     "output_type": "execute_result"
    }
   ],
   "source": [
    "v"
   ]
  },
  {
   "cell_type": "code",
   "execution_count": 106,
   "metadata": {},
   "outputs": [],
   "source": [
    "vect_list = []\n",
    "for vector in v:\n",
    "    for i,vect in enumerate(vector):\n",
    "        if i<32:\n",
    "            vect_list.append(vect)"
   ]
  },
  {
   "cell_type": "code",
   "execution_count": 107,
   "metadata": {},
   "outputs": [
    {
     "data": {
      "text/plain": [
       "32"
      ]
     },
     "execution_count": 107,
     "metadata": {},
     "output_type": "execute_result"
    }
   ],
   "source": [
    "len(vect_list)"
   ]
  },
  {
   "cell_type": "markdown",
   "metadata": {},
   "source": [
    "Plot the vectors. Either pass vect_list or vect_list2."
   ]
  },
  {
   "cell_type": "code",
   "execution_count": 144,
   "metadata": {},
   "outputs": [],
   "source": [
    "from sklearn.decomposition import PCA\n",
    "pca = PCA(n_components=2)\n",
    "principalComponents = pca.fit_transform(vec_list2)"
   ]
  },
  {
   "cell_type": "code",
   "execution_count": 145,
   "metadata": {},
   "outputs": [],
   "source": [
    "y = []\n",
    "x = []\n",
    "for pc in principalComponents:\n",
    "    y.append(pc[0])\n",
    "    x.append(pc[1])"
   ]
  },
  {
   "cell_type": "code",
   "execution_count": 146,
   "metadata": {},
   "outputs": [
    {
     "data": {
      "image/png": "[encoded data removed]",
      "text/plain": [
       "<Figure size 864x864 with 1 Axes>"
      ]
     },
     "metadata": {},
     "output_type": "display_data"
    }
   ],
   "source": [
    "from adjustText import adjust_text\n",
    "from matplotlib import pyplot as plt\n",
    "% matplotlib inline\n",
    "\n",
    "fig, ax = plt.subplots(figsize=(12,12))\n",
    "ax.set_xlabel('Principal Component 1', fontsize = 10)\n",
    "ax.set_ylabel('Principal Component 2', fontsize = 10)\n",
    "ax.set_title('PCA BERT Embeddings', fontsize = 15)\n",
    "targets = targets2  #vecs[1][0]\n",
    "\n",
    "ax.scatter(y,x)\n",
    "#adjust_text(targets, only_move='y')\n",
    "for i, txt in enumerate(targets):\n",
    "    ax.annotate(txt, (y[i], x[i]), color='black', size=13.0)"
   ]
  }
 ],
 "metadata": {
  "kernelspec": {
   "display_name": "Python 3",
   "language": "python",
   "name": "python3"
  },
  "language_info": {
   "codemirror_mode": {
    "name": "ipython",
    "version": 3
   },
   "file_extension": ".py",
   "mimetype": "text/x-python",
   "name": "python",
   "nbconvert_exporter": "python",
   "pygments_lexer": "ipython3",
   "version": "3.6.5"
  }
 },
 "nbformat": 4,
 "nbformat_minor": 2
}
