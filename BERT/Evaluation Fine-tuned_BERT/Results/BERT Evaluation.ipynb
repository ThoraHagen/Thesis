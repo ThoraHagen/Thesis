{
 "cells": [
  {
   "cell_type": "code",
   "execution_count": null,
   "metadata": {},
   "outputs": [],
   "source": [
    "import pandas as pd\n",
    "import numpy as np\n",
    "from collections import Counter"
   ]
  },
  {
   "cell_type": "markdown",
   "metadata": {},
   "source": [
    "### Read results"
   ]
  },
  {
   "cell_type": "code",
   "execution_count": null,
   "metadata": {},
   "outputs": [],
   "source": [
    "df_s = pd.read_csv('sexism_test_results.tsv', sep='\\t', header=None)\n",
    "df_r = pd.read_csv('racism_test_results.tsv', sep='\\t', header=None)\n",
    "df_j = pd.read_csv('jokes_test_results.tsv', sep='\\t', header=None)"
   ]
  },
  {
   "cell_type": "code",
   "execution_count": null,
   "metadata": {},
   "outputs": [],
   "source": [
    "df_s = df_s.values.tolist()\n",
    "df_r = df_r.values.tolist()\n",
    "df_j = df_j.values.tolist()"
   ]
  },
  {
   "cell_type": "markdown",
   "metadata": {},
   "source": [
    "### Get class counter"
   ]
  },
  {
   "cell_type": "code",
   "execution_count": null,
   "metadata": {},
   "outputs": [],
   "source": [
    "def get_accuracies_per_class(predictions):\n",
    "    #predictions = model.predict(x_test)\n",
    "    pred0 = []\n",
    "    pred1 = []\n",
    "    pred2 = []\n",
    "    y_pred = []\n",
    "    for pred in predictions:\n",
    "        pred = list(pred)\n",
    "       \n",
    "        y_pred.append(pred.index(max(pred)))\n",
    "        if pred.index(max(pred)) == 0:\n",
    "            pred0.append(max(pred))\n",
    "        elif pred.index(max(pred)) == 1:\n",
    "            pred1.append(max(pred))\n",
    "        elif pred.index(max(pred)) == 2:\n",
    "            pred2.append(max(pred))\n",
    "    return np.mean(pred0), np.mean(pred1), np.mean(pred2), y_pred"
   ]
  },
  {
   "cell_type": "code",
   "execution_count": null,
   "metadata": {},
   "outputs": [],
   "source": [
    "acc0, acc1, acc2, y_pred = get_accuracies_per_class(df_j)"
   ]
  },
  {
   "cell_type": "code",
   "execution_count": null,
   "metadata": {},
   "outputs": [],
   "source": [
    "print(acc0, acc1, acc2)"
   ]
  },
  {
   "cell_type": "code",
   "execution_count": null,
   "metadata": {},
   "outputs": [],
   "source": [
    "Counter(y_pred)"
   ]
  },
  {
   "cell_type": "markdown",
   "metadata": {},
   "source": [
    "### See which lines are in which class"
   ]
  },
  {
   "cell_type": "code",
   "execution_count": null,
   "metadata": {},
   "outputs": [],
   "source": [
    "t='../../../Data/Data_Evaluation/jokes.txt'\n",
    "text_file = open(t, \"r\")\n",
    "lines = text_file.read().split('\\n')"
   ]
  },
  {
   "cell_type": "code",
   "execution_count": null,
   "metadata": {},
   "outputs": [],
   "source": [
    "def get_lines_per_class(lines, predictions, c):\n",
    "    class_list = []\n",
    "    for i, pred in enumerate(predictions):\n",
    "        if pred == c:\n",
    "            class_list.append(lines[i])\n",
    "    return class_list"
   ]
  },
  {
   "cell_type": "code",
   "execution_count": null,
   "metadata": {},
   "outputs": [],
   "source": [
    "a = get_lines_per_class(lines, y_pred, c=0)"
   ]
  },
  {
   "cell_type": "code",
   "execution_count": null,
   "metadata": {},
   "outputs": [],
   "source": [
    "a"
   ]
  },
  {
   "cell_type": "markdown",
   "metadata": {},
   "source": [
    "### Check how the results of LSTM-ngram and BERT compare"
   ]
  },
  {
   "cell_type": "code",
   "execution_count": null,
   "metadata": {},
   "outputs": [],
   "source": [
    "# printed one of the results of get_lines_per_class() of LSTM-ngram here (racism, class: hatespeech)\n",
    "l = ['basically i’m just imagining waking up white every morning with a terrible existential dread that i have no culture',\n",
    " \"I'm so glad whites are going extinct lmao. You're getting replaced whities. #fuckwhitepeople\",\n",
    " \"@BuzzFeed Because I dated a white male before I knew they were subhuman filth. I didn't just ghost him. I labeled him a fascist white male, and lied to his work to get him fried, saying he stole from them. All whites are racist #GenocideWhitePeople #FuckWhites\",\n",
    " 'Fuck white people #fuckwhitepeople',\n",
    " \"@Terrilltf What do you expect from a useless piece of white trash propagande that comes from MSM fuckwhitepeople they're ignorant disgusting.\",\n",
    " 'I literally just want to drag him behind my car. I dont even care. #fuckwhitepeople #ashamedtobewhite https://t.co/yNa3xogm25',\n",
    " 'I just saw a dirty whitey. Ew. #fuckwhitepeople #punchanazi',\n",
    " \"I'm so glad whites are going extinct lmao. You're getting replaced whities. #fuckwhitepeople\",\n",
    " 'why do white ppl think they can be proud of who they r... they should be ashamed everyday #fuckwhitepeople',\n",
    " \"#ThingsIWouldBan #WhitePeople #FuckWhitepeople they're the demons of this earth.\",\n",
    " 'basically i’m just imagining waking up white every morning with a terrible existential dread that i have no culture',\n",
    " \"I'm so glad whites are going extinct lmao. You're getting replaced whities. #fuckwhitepeople\",\n",
    " \"@BuzzFeed Because I dated a white male before I knew they were subhuman filth. I didn't just ghost him. I labeled him a fascist white male, and lied to his work to get him fried, saying he stole from them. All whites are racist #GenocideWhitePeople #FuckWhites\",\n",
    " 'Fuck white people #fuckwhitepeople',\n",
    " \"@Terrilltf What do you expect from a useless piece of white trash propagande that comes from MSM fuckwhitepeople they're ignorant disgusting.\",\n",
    " 'I literally just want to drag him behind my car. I dont even care. #fuckwhitepeople #ashamedtobewhite https://t.co/yNa3xogm25',\n",
    " 'I just saw a dirty whitey. Ew. #fuckwhitepeople #punchanazi',\n",
    " \"I'm so glad whites are going extinct lmao. You're getting replaced whities. #fuckwhitepeople\",\n",
    " 'why do white ppl think they can be proud of who they r... they should be ashamed everyday #fuckwhitepeople',\n",
    " \"#ThingsIWouldBan #WhitePeople #FuckWhitepeople they're the demons of this earth.\"]"
   ]
  },
  {
   "cell_type": "code",
   "execution_count": null,
   "metadata": {},
   "outputs": [],
   "source": [
    "def intersection(lst1, lst2): \n",
    "    lst3 = [value for value in lst1 if value not in lst2] \n",
    "    lst4 = [value for value in lst2 if value not in lst1]\n",
    "    return lst3, lst4"
   ]
  },
  {
   "cell_type": "code",
   "execution_count": null,
   "metadata": {},
   "outputs": [],
   "source": [
    "not_in_BERT, not_in_LSTM = intersection(l, a) "
   ]
  },
  {
   "cell_type": "code",
   "execution_count": null,
   "metadata": {
    "scrolled": true
   },
   "outputs": [],
   "source": [
    "for n in not_in_LSTM:\n",
    "    print(n)\n",
    "    print('\\n')"
   ]
  }
 ],
 "metadata": {
  "kernelspec": {
   "display_name": "Python 3",
   "language": "python",
   "name": "python3"
  },
  "language_info": {
   "codemirror_mode": {
    "name": "ipython",
    "version": 3
   },
   "file_extension": ".py",
   "mimetype": "text/x-python",
   "name": "python",
   "nbconvert_exporter": "python",
   "pygments_lexer": "ipython3",
   "version": "3.6.5"
  }
 },
 "nbformat": 4,
 "nbformat_minor": 2
}
