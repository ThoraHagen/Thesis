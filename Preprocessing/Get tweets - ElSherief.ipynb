{
 "cells": [
  {
   "cell_type": "code",
   "execution_count": 1,
   "metadata": {},
   "outputs": [],
   "source": [
    "import glob\n",
    "# available at https://github.com/mayelsherif/hate_speech_icwsm18\n",
    "path = r'\\hate_speech_icwsm18-master\\IDS\\*\\*.csv'"
   ]
  },
  {
   "cell_type": "code",
   "execution_count": 2,
   "metadata": {},
   "outputs": [],
   "source": [
    "import pandas as pd"
   ]
  },
  {
   "cell_type": "code",
   "execution_count": 3,
   "metadata": {},
   "outputs": [],
   "source": [
    "paths = glob.glob(path)"
   ]
  },
  {
   "cell_type": "code",
   "execution_count": 4,
   "metadata": {},
   "outputs": [],
   "source": [
    "tweet_ids = []\n",
    "for p in paths:\n",
    "    df = pd.read_csv(p)\n",
    "    tweet_ids.extend(list(df['tweet_id']))"
   ]
  },
  {
   "cell_type": "code",
   "execution_count": 5,
   "metadata": {},
   "outputs": [
    {
     "data": {
      "text/plain": [
       "29619"
      ]
     },
     "execution_count": 5,
     "metadata": {},
     "output_type": "execute_result"
    }
   ],
   "source": [
    "len(tweet_ids)"
   ]
  },
  {
   "cell_type": "code",
   "execution_count": 6,
   "metadata": {},
   "outputs": [
    {
     "data": {
      "text/plain": [
       "28498"
      ]
     },
     "execution_count": 6,
     "metadata": {},
     "output_type": "execute_result"
    }
   ],
   "source": [
    "len(set(tweet_ids))"
   ]
  },
  {
   "cell_type": "code",
   "execution_count": 7,
   "metadata": {},
   "outputs": [],
   "source": [
    "tweet_ids = list(set(tweet_ids))"
   ]
  },
  {
   "cell_type": "code",
   "execution_count": 8,
   "metadata": {},
   "outputs": [
    {
     "data": {
      "text/plain": [
       "[683510708831518720,\n",
       " 685838404953571328,\n",
       " 689548992477134848,\n",
       " 691455479789125632,\n",
       " 702422628464721921,\n",
       " 830196177450696709,\n",
       " 784112877045022724,\n",
       " 757434519913889798,\n",
       " 828239417181601793,\n",
       " 766842440259076096]"
      ]
     },
     "execution_count": 8,
     "metadata": {},
     "output_type": "execute_result"
    }
   ],
   "source": [
    "tweet_ids[:10]"
   ]
  },
  {
   "cell_type": "code",
   "execution_count": 9,
   "metadata": {},
   "outputs": [],
   "source": [
    "import twitter\n",
    "api = twitter.Api(consumer_key='Z4tZ7dDiq9ThUECMUy5i6nxQq',\n",
    "                  consumer_secret='eaE5c4SMxauI840gkLgXyeBa1txwgNfbfywf2krLXpNjH82nLk',\n",
    "                  access_token_key='1067070336959680513-ZwJd9GBBADJYz5BKoGyUU1gFnvIC6t',\n",
    "                  access_token_secret='2VhjL2cwIGlqX0yUvbCQJE6c6TxzsblcaA37q0u8yafWj',\n",
    "                  sleep_on_rate_limit=True, tweet_mode='extended')\n",
    "maps = api.GetStatuses(tweet_ids, trim_user=True, include_entities=False, map=True)"
   ]
  },
  {
   "cell_type": "code",
   "execution_count": 10,
   "metadata": {},
   "outputs": [],
   "source": [
    "dfnew = pd.DataFrame(index = tweet_ids)"
   ]
  },
  {
   "cell_type": "code",
   "execution_count": 11,
   "metadata": {},
   "outputs": [
    {
     "data": {
      "text/plain": [
       "28498"
      ]
     },
     "execution_count": 11,
     "metadata": {},
     "output_type": "execute_result"
    }
   ],
   "source": [
    "len(maps)"
   ]
  },
  {
   "cell_type": "code",
   "execution_count": 12,
   "metadata": {},
   "outputs": [],
   "source": [
    "import regex as re\n",
    "for key, value in maps.items():     \n",
    "    try:\n",
    "        text = re.findall('Text=\\'.*\\'', value.__repr__())[0]\n",
    "        text = re.findall(r'\\'.*\\'', text)[0]\n",
    "    except IndexError:\n",
    "        text = '0'\n",
    "   # print(key, text)\n",
    "    \n",
    "    dfnew.loc[key, 'text'] = text"
   ]
  },
  {
   "cell_type": "code",
   "execution_count": 14,
   "metadata": {},
   "outputs": [],
   "source": [
    "dfnew.to_csv('fullnewtweets_icwsm18_extended_2.csv', sep='\\t')"
   ]
  }
 ],
 "metadata": {
  "kernelspec": {
   "display_name": "Python 3",
   "language": "python",
   "name": "python3"
  },
  "language_info": {
   "codemirror_mode": {
    "name": "ipython",
    "version": 3
   },
   "file_extension": ".py",
   "mimetype": "text/x-python",
   "name": "python",
   "nbconvert_exporter": "python",
   "pygments_lexer": "ipython3",
   "version": "3.6.5"
  }
 },
 "nbformat": 4,
 "nbformat_minor": 2
}
