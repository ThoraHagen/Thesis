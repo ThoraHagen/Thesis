{
 "cells": [
  {
   "cell_type": "code",
   "execution_count": 1,
   "metadata": {},
   "outputs": [],
   "source": [
    "import twitter\n",
    "api = twitter.Api(consumer_key='Z53o5DUbiRxgU62Y2yRvZGZKO',\n",
    "                  consumer_secret='M564Nh9pst8eXmwWAMUPgBE1vZMAXuGKro7b2jRCEdf1Fbw0RG',\n",
    "                  access_token_key='1067070336959680513-5eHHbtIWNJkZKA5zO1dVBbOGDb3iEU',\n",
    "                  access_token_secret='DlHIWDg1ZIEWMiMsrEFX73YwztnffwAasPlF2plprFpre',\n",
    "                  sleep_on_rate_limit=True, tweet_mode='extended')"
   ]
  },
  {
   "cell_type": "code",
   "execution_count": 18,
   "metadata": {},
   "outputs": [],
   "source": [
    "tweets = api.GetSearch(term=\"whitey\", lang=\"en\", count=100, include_entities=False, return_json=False)"
   ]
  },
  {
   "cell_type": "code",
   "execution_count": 19,
   "metadata": {},
   "outputs": [
    {
     "data": {
      "text/plain": [
       "[Status(ID=1110219974210129920, ScreenName=birdieduka, Created=Mon Mar 25 16:40:43 +0000 2019, Text='and don\\'t let there be more than one common identifier with us then it\\'s game over lol. i had a whitey tell me i \"looked like laverne cox, but prettier\". im 5\\'5\\'\\' w glasses and darkskin. the only black trans woman he knew was her and it fucking showed lol. https://t.co/JRqg2GaXUo'),\n",
       " Status(ID=1110219685491019778, ScreenName=Whitey_chan, Created=Mon Mar 25 16:39:34 +0000 2019, Text=\"I'm the last person to defend public infrastructure in the US, but even Amtrak (!) manages to provide wifi on trains that's good enough for Netflix - maybe @DB_Bahn could learn from them?\"),\n",
       " Status(ID=1110219114860216320, ScreenName=AudioConnoisseu, Created=Mon Mar 25 16:37:18 +0000 2019, Text='@raysawhill That was about the same time the press was screeching about all those hundreds of black churches being torched by whitey. Never happened.'),\n",
       " Status(ID=1110218779387002881, ScreenName=live4always, Created=Mon Mar 25 16:35:58 +0000 2019, Text='@RobertRenfro @BrianZahnd Ask an native Indian ‘ 100 of unsolved womenS murders’ kicking dem off’ there LANDS FOR PROGRESS ‘ so WHITEY CAN HAVE HIS RIDE'),\n",
       " Status(ID=1110218753332129793, ScreenName=Pj_Whitey, Created=Mon Mar 25 16:35:52 +0000 2019, Text='RT @Sidenomenal: It’s a luxury you can afford when you don’t have to build a trophy cabinet https://t.co/uTrVE5SM2E'),\n",
       " Status(ID=1110218604304363520, ScreenName=rachelhxgg, Created=Mon Mar 25 16:35:16 +0000 2019, Text='had to clean whitey off my docs far too many times'),\n",
       " Status(ID=1110218557172916236, ScreenName=WhiteyMorgan, Created=Mon Mar 25 16:35:05 +0000 2019, Text='RT @pghmusicmag: Whitey Morgan and the 78’s at Pittsburgh’s Stage AE on 6/6 https://t.co/FEIz3ZMfqw https://t.co/51behRarav'),\n",
       " Status(ID=1110217908066484224, ScreenName=yunghooligan47, Created=Mon Mar 25 16:32:30 +0000 2019, Text='been suspended for 7 fucking days cuz of some fucking whitey'),\n",
       " Status(ID=1110216122656346114, ScreenName=979_7740, Created=Mon Mar 25 16:25:25 +0000 2019, Text='RT @WaydeDe: @SenatorRomney As usual “Unfit Mitt” Romney has this wrong as “Diablo” Mueller has been a scandal ridden Prosecutor for years…'),\n",
       " Status(ID=1110216029328891909, ScreenName=Ali_Whitey, Created=Mon Mar 25 16:25:02 +0000 2019, Text='Let’s see if I can make good decisions while playing \\u2066@LifeIsStrange\\u2069 2- Watch me at https://t.co/HIKG3rmaDW'),\n",
       " Status(ID=1110215822209888256, ScreenName=politicVIC, Created=Mon Mar 25 16:24:13 +0000 2019, Text='RT @WaydeDe: @SenatorRomney As usual “Unfit Mitt” Romney has this wrong as “Diablo” Mueller has been a scandal ridden Prosecutor for years…'),\n",
       " Status(ID=1110215730316918785, ScreenName=smartvalueinfo, Created=Mon Mar 25 16:23:51 +0000 2019, Text='RT @WaydeDe: @SenatorRomney As usual “Unfit Mitt” Romney has this wrong as “Diablo” Mueller has been a scandal ridden Prosecutor for years…'),\n",
       " Status(ID=1110215594949992448, ScreenName=jdp021189, Created=Mon Mar 25 16:23:19 +0000 2019, Text='RT @WaydeDe: @SenatorRomney As usual “Unfit Mitt” Romney has this wrong as “Diablo” Mueller has been a scandal ridden Prosecutor for years…'),\n",
       " Status(ID=1110215392797052929, ScreenName=SBDSoultrain, Created=Mon Mar 25 16:22:31 +0000 2019, Text=\"@laundry_guy @LeonWhi63670221 @Southeast70D @esta_joy @DanFoc77 @instinctnaturel @TT197 @KostiukLeah @markleng457 @provdcrumblover @akvawe66 @Rick95648 @all_eyezonmi @2tall2fall4it @establishmentno @joshua_nimmons @Consofcooking1 @7batshere @joanne48640679 @Mattytwo2 @ACMeyor @Creativempathy3 @RussellMace2 @MissysMess @PatrickMcGilli5 @HanyuuHiiragi @naturelover3333 @PwrCane1 @alshadowdancer @RetaHurt @WSnapp2 @TWITMO_INMATE @siriuskathleen1 @ThereseOSulliv2 @reddragon4566 @jusbgun1 @meyers_andi @john_armed @MccJoni @lilangel2768 @ronaf59 @dragonwookie420 @DeanoMartino1 @SwampFox214 @JLSzookeeper @jk11195355 @wdcollinsworth @DWCDroneGuy @TruthPipe @Jibarito4848 Hey... there's Whitey! What racist shit he got working today. His redundant babble that he calls answers made me pull the plug. Not real cerebral. I guess he's off of work again today. This can't be his only source of income besides welfare. Ask him😂\"),\n",
       " Status(ID=1110215332386476032, ScreenName=regulusflame, Created=Mon Mar 25 16:22:16 +0000 2019, Text=\"Just saying as a whitey i agree w olyn and that's that on that\"),\n",
       " Status(ID=1110215189478195200, ScreenName=whitey_carl, Created=Mon Mar 25 16:21:42 +0000 2019, Text='@SkySportsPL 1 fucking billion 😂😂😂😂😂😂😂😂😂'),\n",
       " Status(ID=1110214535615381512, ScreenName=vovo401, Created=Mon Mar 25 16:19:06 +0000 2019, Text='Tighty whitey kind of day. https://t.co/AAc3TFtJcf'),\n",
       " Status(ID=1110214490149261312, ScreenName=RonaldLampkin2, Created=Mon Mar 25 16:18:55 +0000 2019, Text=\"RT @lampkin_ronald: Stormy's Daniel \\nIs selling  trump tightly whitey \\nOn eBay,,  \\nGet it while there hot\\n\\nMike penis, dont even think abou…\"),\n",
       " Status(ID=1110214327359934464, ScreenName=ToAmused, Created=Mon Mar 25 16:18:17 +0000 2019, Text='@mynameisjerm @steve_hofmeyr One wonders how far they able to push their luck with the alt leftist whitey 🙄 those ones that cry on @Radio702 radio about the wrongs of the past whilst the very shrewd connected ANC cadres have stolen R1.5 TRILLION. I’m very confused about these stupid fools'),\n",
       " Status(ID=1110214012086702081, ScreenName=maryxma, Created=Mon Mar 25 16:17:01 +0000 2019, Text='RT @therestofus5: So it appears there are people on twitter who think biology is a white colonial notion imposed upon the rest of the world…'),\n",
       " Status(ID=1110213854754234368, ScreenName=dg_gibbens, Created=Mon Mar 25 16:16:24 +0000 2019, Text='RT @johncardillo: Mueller has cost taxpayers:\\n\\n- $102 million for hiding exculpatory evidence on four men, two of whom died in prison, part…'),\n",
       " Status(ID=1110213313693188097, ScreenName=lmCorrupted, Created=Mon Mar 25 16:14:15 +0000 2019, Text='RT @khalifasaif: I don’t have a picture of whitey, but this her before and after we rescued her https://t.co/vVBi9Z0lCx'),\n",
       " Status(ID=1110213204620259328, ScreenName=Uncle_Whitey, Created=Mon Mar 25 16:13:49 +0000 2019, Text='#DinerSchmovies\\n\\nBlue Chipped Beef'),\n",
       " Status(ID=1110213037099806721, ScreenName=Uncle_Whitey, Created=Mon Mar 25 16:13:09 +0000 2019, Text='#DinerSchmovies\\n\\nChicken Fried Green Tomatoes'),\n",
       " Status(ID=1110212753942286341, ScreenName=Uncle_Whitey, Created=Mon Mar 25 16:12:01 +0000 2019, Text='#DinerSchmovies\\nChicken- a-la- king and I'),\n",
       " Status(ID=1110212732530446341, ScreenName=Kevin_Mauck, Created=Mon Mar 25 16:11:56 +0000 2019, Text='@Reactionary_Ed Genetic line ended LMFAO go back to band practice whitey'),\n",
       " Status(ID=1110212318552616960, ScreenName=dining_ud, Created=Mon Mar 25 16:10:18 +0000 2019, Text=\"Need something to warm you up on this rainy day? \\nHead to one of our locations for soup! \\n\\nEmpo: vegan vegetable soup or Whitey's chili\\nMC: chicken noodle or tomato soup\\nVWK: buffalo chicken soup or corn chowder \\nEnjoy!\"),\n",
       " Status(ID=1110212001777754112, ScreenName=gravitren, Created=Mon Mar 25 16:09:02 +0000 2019, Text='Just whitnessed two whitey boys having a huge road rage shout fest'),\n",
       " Status(ID=1110211691130707969, ScreenName=FinanceExaminer, Created=Mon Mar 25 16:07:48 +0000 2019, Text=\"@JohnBWellsCTM Where is his 'I Love Whitey Bulger' keychain for sale?\"),\n",
       " Status(ID=1110211480794869760, ScreenName=22lozenges, Created=Mon Mar 25 16:06:58 +0000 2019, Text=\"@turing_police @gunsmoslem When it comes to tweet users, don't trust whitey.\"),\n",
       " Status(ID=1110210736280739840, ScreenName=fishnetsnbabe, Created=Mon Mar 25 16:04:00 +0000 2019, Text='RT @notemilycoates: jus wish it was festival season I wna be passed out in a camping chair with 3 pairs of trackies on 2 hoodies and a coat…'),\n",
       " Status(ID=1110210678068006912, ScreenName=NoahFenceMate, Created=Mon Mar 25 16:03:47 +0000 2019, Text='@_SLINGAZ @mujer_goddess White people suck 😂😂😂👌🏻👌🏻👌🏻👌🏻👌🏻\\n\\nFuck whitey 😏😉😏😉😏... fuck the government !!!!'),\n",
       " Status(ID=1110210484702248960, ScreenName=remi3457, Created=Mon Mar 25 16:03:00 +0000 2019, Text='HE HAS TIME TO BUY SOME WHITEY TIGHTYS FOR HIS GITMO EXTENDED VACATION https://t.co/u5muPIf7zz'),\n",
       " Status(ID=1110210482030424065, ScreenName=Whitey_83, Created=Mon Mar 25 16:03:00 +0000 2019, Text=\"I'd honestly forgotten he was in this one until recently. https://t.co/W3hcawBwk2\"),\n",
       " Status(ID=1110209880240148480, ScreenName=jonihubbard, Created=Mon Mar 25 16:00:36 +0000 2019, Text='RT @johncardillo: Mueller has cost taxpayers:\\n\\n- $102 million for hiding exculpatory evidence on four men, two of whom died in prison, part…'),\n",
       " Status(ID=1110209689407639553, ScreenName=JoanBadarak, Created=Mon Mar 25 15:59:51 +0000 2019, Text='RT @johncardillo: Mueller has cost taxpayers:\\n\\n- $102 million for hiding exculpatory evidence on four men, two of whom died in prison, part…'),\n",
       " Status(ID=1110209646369734657, ScreenName=leegregory4367, Created=Mon Mar 25 15:59:41 +0000 2019, Text='But it\\'s obviously Whitey\\'s fault. Or Trump\\'s fault. Or the KKK, or Fox News. It just CAN\"T be THEIR fault ! They\\'re MINORITIES !! https://t.co/gLKbFQLNf1'),\n",
       " Status(ID=1110208144750325761, ScreenName=rajni1959, Created=Mon Mar 25 15:53:43 +0000 2019, Text='RT @therestofus5: So it appears there are people on twitter who think biology is a white colonial notion imposed upon the rest of the world…'),\n",
       " Status(ID=1110208072096444416, ScreenName=Or4Now, Created=Mon Mar 25 15:53:25 +0000 2019, Text=\"RT @Bravewriting: @chrislongview Well, obviously you're right and seeing how Trump beat the brakes off of 14 various types of white men, I…\"),\n",
       " Status(ID=1110207982837497856, ScreenName=whitey_mark, Created=Mon Mar 25 15:53:04 +0000 2019, Text='RT @KnucklesNilan30: Ran out of toilet paper https://t.co/CqfQjfKEzh'),\n",
       " Status(ID=1110207143465181185, ScreenName=ToAmused, Created=Mon Mar 25 15:49:44 +0000 2019, Text='@rinmor RET ANC style 🙄 not sure when the whitey will ever wake up from the St Mandela dream pathetic people'),\n",
       " Status(ID=1110207040536879105, ScreenName=Boonie100Goonie, Created=Mon Mar 25 15:49:19 +0000 2019, Text='Lmfaooo die whitey https://t.co/t4eFRLpKIf'),\n",
       " Status(ID=1110206828279984128, ScreenName=LarryBl17841898, Created=Mon Mar 25 15:48:29 +0000 2019, Text='Blame whitey. Smh https://t.co/Goh35lxAZf'),\n",
       " Status(ID=1110205707423543296, ScreenName=LOCATORJESUS612, Created=Mon Mar 25 15:44:01 +0000 2019, Text='#Comey and #Mueller Go way back to the Boston FBI office and a guy named #Whitey. They helped cover for him and his direct involvement with the FBI. Thats how #Bulger got caught and that is why he is dead now he was a loose end. I hope we can get rid of these corrupt fucks. #TCNT'),\n",
       " Status(ID=1110205338496782336, ScreenName=Whitey_Fox, Created=Mon Mar 25 15:42:33 +0000 2019, Text='RT @SuperMarioFact: Rappin\\' Koopa is the alter ego King Koopa uses in \"Bad Rap\". He wears a chain with a gold K on it and red sunglasses. h…'),\n",
       " Status(ID=1110205331701940227, ScreenName=JcondeMan, Created=Mon Mar 25 15:42:32 +0000 2019, Text='@ChelseaMoukazis Whitey'),\n",
       " Status(ID=1110204655756345344, ScreenName=BIGPLAY_dave, Created=Mon Mar 25 15:39:51 +0000 2019, Text='Final stops before we wrap up the list: Whitey’s, Johnny’s Little Bar, The Rail and Yardhouse. \\n\\nThen, a burger break. 😂 https://t.co/GG1z6PnwxJ'),\n",
       " Status(ID=1110203231718780929, ScreenName=izzyparryyy, Created=Mon Mar 25 15:34:11 +0000 2019, Text='RT @notemilycoates: jus wish it was festival season I wna be passed out in a camping chair with 3 pairs of trackies on 2 hoodies and a coat…'),\n",
       " Status(ID=1110202409194643456, ScreenName=muchappreci8ed, Created=Mon Mar 25 15:30:55 +0000 2019, Text='@TheJordanRachel He knew it right away but chose to draw it out as many payments as he could. May have wanted to cover up Seth Rich and blame it on the Russians. Could be as crazy as Whitey Bulger taking out Seth and then in Prison Mueller had Bulger taken out. He did hide him for many years.'),\n",
       " Status(ID=1110202353259409409, ScreenName=ciara__haslem, Created=Mon Mar 25 15:30:42 +0000 2019, Text='RT @notemilycoates: jus wish it was festival season I wna be passed out in a camping chair with 3 pairs of trackies on 2 hoodies and a coat…'),\n",
       " Status(ID=1110202315313725446, ScreenName=SirRedking1999, Created=Mon Mar 25 15:30:33 +0000 2019, Text='RT @ReadKaczynski: &gt;stop breeding, whitey :^)\\nNice picture\\n\\nThis is psychological terrorism. https://t.co/SDv1LWbCYa'),\n",
       " Status(ID=1110201927080558592, ScreenName=EvilEkholm, Created=Mon Mar 25 15:29:00 +0000 2019, Text='@BIGPLAY_dave @GunselmansTav @heckscafe @BSpotBurgers @RockyRiverBrew @SwensonsDriveIn @winkinglizard @FlipSideRiver No Whitey’s Booze and Burgers...\\U0001f928'),\n",
       " Status(ID=1110201756208807936, ScreenName=ZachTollen, Created=Mon Mar 25 15:28:19 +0000 2019, Text='RT @therestofus5: So it appears there are people on twitter who think biology is a white colonial notion imposed upon the rest of the world…'),\n",
       " Status(ID=1110200810506469377, ScreenName=Curious_Rey, Created=Mon Mar 25 15:24:34 +0000 2019, Text='RT @therestofus5: So it appears there are people on twitter who think biology is a white colonial notion imposed upon the rest of the world…'),\n",
       " Status(ID=1110200505358319619, ScreenName=inkdup_whitey, Created=Mon Mar 25 15:23:21 +0000 2019, Text='RT @prettyboyluke__: a makeout session while you’re on top of me would smack rn'),\n",
       " Status(ID=1110200390514024452, ScreenName=inkdup_whitey, Created=Mon Mar 25 15:22:54 +0000 2019, Text='RT @eva62044916: But if I pulled a you on you I’m wrong right ? 🤦🏽\\u200d♀️'),\n",
       " Status(ID=1110200354757660675, ScreenName=DanielaKayB, Created=Mon Mar 25 15:22:45 +0000 2019, Text='@emilycardinali @Whitey_chan oh noes /o\\\\'),\n",
       " Status(ID=1110200260792647681, ScreenName=TheMan84196222, Created=Mon Mar 25 15:22:23 +0000 2019, Text='@_SJPeace_ @AOC Yup blame it on whitey.  You are a special kind of stupid'),\n",
       " Status(ID=1110200226403504130, ScreenName=Landy44, Created=Mon Mar 25 15:22:15 +0000 2019, Text='@BIGPLAY_dave Whitey’s in Richfield'),\n",
       " Status(ID=1110200214651133953, ScreenName=merrill_g, Created=Mon Mar 25 15:22:12 +0000 2019, Text=\"@GracieUSA1 @Bravewriting @Davisonbob Fellow whitey here telling you you're missing the point. We hear our white perspective every day, from every major news outlet and from all those white politicians, it's important to listen when our Sisters of color speak of their experience and put it in context so we understand\"),\n",
       " Status(ID=1110199962514739200, ScreenName=CreepyRunner, Created=Mon Mar 25 15:21:12 +0000 2019, Text=\"@BIGPLAY_dave Whitey's in Richfield.\"),\n",
       " Status(ID=1110199739470041088, ScreenName=whitey_mark, Created=Mon Mar 25 15:20:19 +0000 2019, Text='RT @jeremy_stringer: \\u2066@HOFBlues16\\u2069 found this picture yesterday - your old man was in Yellowknife fishing and I was lucky enough to meet hi…'),\n",
       " Status(ID=1110199274669780992, ScreenName=OliFelixPT, Created=Mon Mar 25 15:18:28 +0000 2019, Text='RT @therestofus5: So it appears there are people on twitter who think biology is a white colonial notion imposed upon the rest of the world…'),\n",
       " Status(ID=1110199082054795266, ScreenName=whitey_boy, Created=Mon Mar 25 15:17:42 +0000 2019, Text='@LeapfrogMark @Sleepertweeting ‘My lawnmower won’t start’. Sounds fishy to me.'),\n",
       " Status(ID=1110198787782426624, ScreenName=AllenEllis14, Created=Mon Mar 25 15:16:32 +0000 2019, Text='RT @WaydeDe: @SenatorRomney As usual “Unfit Mitt” Romney has this wrong as “Diablo” Mueller has been a scandal ridden Prosecutor for years…'),\n",
       " Status(ID=1110198729339031553, ScreenName=Whitey_chan, Created=Mon Mar 25 15:16:18 +0000 2019, Text=\"@emilycardinali God that's terrible, I'm so sorry that happened to you :( I hope you managed to get away from the situation safely?\"),\n",
       " Status(ID=1110198660007116802, ScreenName=whitey_boy, Created=Mon Mar 25 15:16:01 +0000 2019, Text='RT @MagicWordsSALT: We are working with Yellow House in Kenya @our_yellowhouse to raise money to send a therapist there to see children wit…'),\n",
       " Status(ID=1110198366107918336, ScreenName=emilycardinali, Created=Mon Mar 25 15:14:51 +0000 2019, Text='@Whitey_chan once I was being harassed and followed by a guy and then the security guard came over. I thought he was going to help me but he just told me my tattoos were sexy.'),\n",
       " Status(ID=1110198347489525765, ScreenName=kxlouise_, Created=Mon Mar 25 15:14:47 +0000 2019, Text='RT @notemilycoates: jus wish it was festival season I wna be passed out in a camping chair with 3 pairs of trackies on 2 hoodies and a coat…'),\n",
       " Status(ID=1110198104547123200, ScreenName=hoggard_sasha, Created=Mon Mar 25 15:13:49 +0000 2019, Text='RT @notemilycoates: jus wish it was festival season I wna be passed out in a camping chair with 3 pairs of trackies on 2 hoodies and a coat…'),\n",
       " Status(ID=1110197952050540544, ScreenName=Whitey_chan, Created=Mon Mar 25 15:13:12 +0000 2019, Text=\"Not a single guy stepped in. \\n\\nMen, y'all really gotta keep your eyes open for weird stuff like this as well!\"),\n",
       " Status(ID=1110197793887604742, ScreenName=whirlsquirlgirl, Created=Mon Mar 25 15:12:35 +0000 2019, Text='Just so people don’t give up..\\nPlease remember: it’s an abrievated version, of and abridged version of a big report. \\nIn other words: \\n\\nThe brief brief was written by a tighty whitey.'),\n",
       " Status(ID=1110197702246191104, ScreenName=Whitey_chan, Created=Mon Mar 25 15:12:13 +0000 2019, Text=\"I've been in situations like this a lot where only other women noticed that something was off, while men just didn't seem to care. One time, I saw a guy physically assault a woman &amp; the moment the situation escalated, several women, who'd clearly been watching, all stepped in.\"),\n",
       " Status(ID=1110197531789705216, ScreenName=maribellezza, Created=Mon Mar 25 15:11:32 +0000 2019, Text='RT @WaydeDe: @SenatorRomney As usual “Unfit Mitt” Romney has this wrong as “Diablo” Mueller has been a scandal ridden Prosecutor for years…'),\n",
       " Status(ID=1110197410058383360, ScreenName=MissyJo79, Created=Mon Mar 25 15:11:03 +0000 2019, Text='RT @WaydeDe: @SenatorRomney As usual “Unfit Mitt” Romney has this wrong as “Diablo” Mueller has been a scandal ridden Prosecutor for years…'),\n",
       " Status(ID=1110197238079344640, ScreenName=WaydeDe, Created=Mon Mar 25 15:10:22 +0000 2019, Text='@SenatorRomney As usual “Unfit Mitt” Romney has this wrong as “Diablo” Mueller has been a scandal ridden Prosecutor for years from the Whitey Bulger case to this “witch-hunt” where he knew from the start there was no Trump-Russian collusion.Romney is a Democrat representing himself, not Utah!'),\n",
       " Status(ID=1110197231230111744, ScreenName=joleeo__, Created=Mon Mar 25 15:10:21 +0000 2019, Text=\"Something very thrilling was walking around in just whitey tighties with a sock as a dick.\\n\\nY'all come see Rocky Horror on April 6th\"),\n",
       " Status(ID=1110197188875964416, ScreenName=highkarate, Created=Mon Mar 25 15:10:10 +0000 2019, Text=\"Another famous rapper died today at the hands of the KKK controlled crime ridden inner cities. Thug Life now means blame whitey for killing ourselves. Grunge is now second place in violent deaths, bravo Rap. Just as your people can afford SUVs and big screen TV's, you do this?\"),\n",
       " Status(ID=1110197184912224257, ScreenName=Bravewriting, Created=Mon Mar 25 15:10:10 +0000 2019, Text=\"@chrislongview Well, obviously you're right and seeing how Trump beat the brakes off of 14 various types of white men, I doubt a white man will beat him.\\n\\nSo, if Dems are going full Whitey McWhiteman for the nom, the only reasonable thing to do is monetize a flip to Trump.\\n\\nIt's smart business.\"),\n",
       " Status(ID=1110197157498363916, ScreenName=danielle9396, Created=Mon Mar 25 15:10:03 +0000 2019, Text='am such a pussy hole, am on my balcony n downstairs are smoking weed n a swear am bout to whitey, SOS'),\n",
       " Status(ID=1110197068482535427, ScreenName=LakeyFBaby, Created=Mon Mar 25 15:09:42 +0000 2019, Text='@b_westart17 You don’t speak on Taco Bell breakfast whitey'),\n",
       " Status(ID=1110197037465780224, ScreenName=Whitey_chan, Created=Mon Mar 25 15:09:34 +0000 2019, Text='Just another example of how important it is to be alert and speak up when you observe someone (usually women) being harassed, made uncomfortable or assaulted by men - and that it helps. https://t.co/TUNOHs7zTd'),\n",
       " Status(ID=1110196837758181377, ScreenName=RobertC05821571, Created=Mon Mar 25 15:08:47 +0000 2019, Text='@DogWalkingDame Look no further than the FBI\\'s collusion with Whitey Bulger. That pre-dated the coup by at least thirty years. And let\\'s not forget Hoover\\'s blackmail files - the original \"insurance policy.\"'),\n",
       " Status(ID=1110196187188072449, ScreenName=Whitey_or_YT, Created=Mon Mar 25 15:06:12 +0000 2019, Text='Thank you @RobGronkowski #Patriots #bestTE'),\n",
       " Status(ID=1110195548705959937, ScreenName=dgravy32, Created=Mon Mar 25 15:03:39 +0000 2019, Text='@Cardinals Can’t express how amazing the old blue looks. Growing up a @Cardinals fan, these bring back fun memories as a kid. Yes, I wrote lineups for Whitey Herzog back in the day. Thought I was his bench coach! 🤦🏻\\u200d♂️ You like these right @TylerJacobsSTAD @michaelkimHD ??? https://t.co/evguEbnoGA'),\n",
       " Status(ID=1110195492691103745, ScreenName=nadine_mcbay, Created=Mon Mar 25 15:03:26 +0000 2019, Text='RT @therestofus5: So it appears there are people on twitter who think biology is a white colonial notion imposed upon the rest of the world…'),\n",
       " Status(ID=1110195242895052800, ScreenName=Whitey_, Created=Mon Mar 25 15:02:26 +0000 2019, Text='@EliudGRomo Can’t promise that'),\n",
       " Status(ID=1110195201975435265, ScreenName=TacoAffcionado, Created=Mon Mar 25 15:02:17 +0000 2019, Text='@Whitey_83 Go Pack Go'),\n",
       " Status(ID=1110195179728756739, ScreenName=EliudGRomo, Created=Mon Mar 25 15:02:11 +0000 2019, Text='@Whitey_ Text me, no dick pics'),\n",
       " Status(ID=1110195155729108992, ScreenName=44Yasmin44, Created=Mon Mar 25 15:02:06 +0000 2019, Text='FUCKIN WHITEY WHIT THE FUCK https://t.co/Kh458qaM5l'),\n",
       " Status(ID=1110195055485222912, ScreenName=Whitey_, Created=Mon Mar 25 15:01:42 +0000 2019, Text='@EliudGRomo Lmaooo, message me dude'),\n",
       " Status(ID=1110194985935093760, ScreenName=EliudGRomo, Created=Mon Mar 25 15:01:25 +0000 2019, Text=\"@Whitey_ You right.. I'm a pussy.. lol\"),\n",
       " Status(ID=1110194882457595905, ScreenName=Whitey_, Created=Mon Mar 25 15:01:01 +0000 2019, Text='@EliudGRomo Stop subtweeting and just @ the girl! Pussy boy 😂😂'),\n",
       " Status(ID=1110194272106672129, ScreenName=ejshivers, Created=Mon Mar 25 14:58:35 +0000 2019, Text='RT @johncardillo: Mueller has cost taxpayers:\\n\\n- $102 million for hiding exculpatory evidence on four men, two of whom died in prison, part…'),\n",
       " Status(ID=1110193718919946240, ScreenName=Whitey_83, Created=Mon Mar 25 14:56:23 +0000 2019, Text='I have never been so disgusted in a politician. https://t.co/LLI92AufHQ'),\n",
       " Status(ID=1110192759397326848, ScreenName=gatorsntheswamp, Created=Mon Mar 25 14:52:34 +0000 2019, Text='RT @johncardillo: Mueller has cost taxpayers:\\n\\n- $102 million for hiding exculpatory evidence on four men, two of whom died in prison, part…'),\n",
       " Status(ID=1110192712823779330, ScreenName=wormqueen, Created=Mon Mar 25 14:52:23 +0000 2019, Text='RT @therestofus5: So it appears there are people on twitter who think biology is a white colonial notion imposed upon the rest of the world…'),\n",
       " Status(ID=1110192231338500096, ScreenName=ComradeSnake, Created=Mon Mar 25 14:50:28 +0000 2019, Text='RT @therestofus5: So it appears there are people on twitter who think biology is a white colonial notion imposed upon the rest of the world…'),\n",
       " Status(ID=1110192140032897036, ScreenName=DarrelAnderson3, Created=Mon Mar 25 14:50:07 +0000 2019, Text='You know the Book “Black Mass” by Dick Lehr.  The corruption of the FBI during the Whitey Bulger era when he was president of the Senate in Boston. Sound like a replay of the last few years put togetter by Hilary Clinton.'),\n",
       " Status(ID=1110191799841230848, ScreenName=annaleighr, Created=Mon Mar 25 14:48:46 +0000 2019, Text='RT @notemilycoates: jus wish it was festival season I wna be passed out in a camping chair with 3 pairs of trackies on 2 hoodies and a coat…')]"
      ]
     },
     "execution_count": 19,
     "metadata": {},
     "output_type": "execute_result"
    }
   ],
   "source": [
    "tweets"
   ]
  },
  {
   "cell_type": "markdown",
   "metadata": {},
   "source": [
    "for status in tweets:\n",
    "    print(status.full_text)"
   ]
  },
  {
   "cell_type": "code",
   "execution_count": 4,
   "metadata": {},
   "outputs": [],
   "source": [
    "tweet_list_sexism = []\n",
    "tweet_list_racism = []"
   ]
  },
  {
   "cell_type": "code",
   "execution_count": 170,
   "metadata": {},
   "outputs": [],
   "source": [
    "#tweet_list = []\n",
    "for status in tweets:\n",
    "    tweet_list_sexism.append(status.full_text)"
   ]
  },
  {
   "cell_type": "code",
   "execution_count": 20,
   "metadata": {},
   "outputs": [],
   "source": [
    "#tweet_list_racism = []\n",
    "for status in tweets:\n",
    "    tweet_list_racism.append(status.full_text)"
   ]
  },
  {
   "cell_type": "code",
   "execution_count": 23,
   "metadata": {},
   "outputs": [],
   "source": [
    "with open('twitter_racsim_2.txt', 'w', encoding='utf8') as f:\n",
    "    for item in tweet_list_racism:\n",
    "        f.write(\"%s\\n\" % item)"
   ]
  },
  {
   "cell_type": "code",
   "execution_count": null,
   "metadata": {},
   "outputs": [],
   "source": []
  }
 ],
 "metadata": {
  "kernelspec": {
   "display_name": "Python 3",
   "language": "python",
   "name": "python3"
  },
  "language_info": {
   "codemirror_mode": {
    "name": "ipython",
    "version": 3
   },
   "file_extension": ".py",
   "mimetype": "text/x-python",
   "name": "python",
   "nbconvert_exporter": "python",
   "pygments_lexer": "ipython3",
   "version": "3.6.5"
  }
 },
 "nbformat": 4,
 "nbformat_minor": 2
}
